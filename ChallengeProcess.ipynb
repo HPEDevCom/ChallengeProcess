{
 "cells": [
  {
   "cell_type": "markdown",
   "metadata": {},
   "source": [
    "![enter image description here](https://developer.hpe.com/img/hpe-dev-logo-mark-anim.svg?1580730675069 \"HPE DEV Hack Shack\")\n",
    "\n",
    "# DISCOVER Hack Shack Challenges\n",
    "\n",
    "Provided by [HPEDEV Team](hpedev.io)\n",
    "\n",
    "# Challenge process:\n",
    "\n",
    "All our challenges will work the same way during HPE Discover Virtual Experience 2020. We will ask you to use GitHub and Jupyter Notebooks all along the process to collect the instructions, to provide your answers and finally to submit your response.\n",
    "\n",
    "## Getting started \n",
    "\n",
    "- Step 1: obtain your Jupyter account \n",
    "- Step 2: fork the challenge you'd like to take from https://github.com/HPEDevCom\n",
    "- Step 3: pull your copy of the challenge in your Jupyter environment (using your Launcher terminal window)\n",
    "- Step 4: open challenge notebook and start working on it\n",
    "\n",
    "Some of the challenges have Workshop prerequisites, and the notebook for these have been copied in your Jupyter environment. Don't hesitate to refer to those notebooks if you missed the live workshop. GIT101 Workshop is a prerequisite for all challenges and the content can be found in your Jupyter environment\n",
    "\n",
    "## Submitting your response\n",
    "\n",
    "When ready to submit your challenge notebook, we will ask you to leverage GitHub again:\n",
    "\n",
    "- Step 1: commit changes in your Jupyter environment  (using your Launcher terminal window)\n",
    "- Step 2: push changes to your repo  (using your Launcher terminal window)\n",
    "- Step 3: open a pull request on our original repo (use the description to tell us your email, so we can contact you)\n",
    "\n",
    "You should submit your respond no later that Friday evening midnight CET. We will reset Jupyter accounts during the weekend make sure you saved you work and submitted your PR before the deadline.\n",
    "\n",
    "## Looking for help\n",
    "\n",
    "As already mentionned, the prerequisite content is available in your Jupyter account, don't hesitate to refer back to these notebooks to answer the challenge. We have setup a Challenger Hangout Zoom Room with free beer and free pizza (that's virtual of course). Feel free to join the room to discuss the challenge with your peers. Members of the HPE DEV team will hangout there too on regular basis. In case of a real emergency, you can contact the [HPEDEV Team](mailto:hpedev@hpe.com).\n",
    "\n",
    "## Challenges rewards\n",
    "\n",
    "We will select and reward the best response per challenge subject at the end of the HPE Discover Virtual Experience. In addition to this we will have a draw amonst the challengers who submitted to all our challenges."
   ]
  },
  {
   "cell_type": "code",
   "execution_count": null,
   "metadata": {},
   "outputs": [],
   "source": []
  }
 ],
 "metadata": {
  "kernelspec": {
   "display_name": "Python 3",
   "language": "python",
   "name": "python3"
  },
  "language_info": {
   "codemirror_mode": {
    "name": "ipython",
    "version": 3
   },
   "file_extension": ".py",
   "mimetype": "text/x-python",
   "name": "python",
   "nbconvert_exporter": "python",
   "pygments_lexer": "ipython3",
   "version": "3.6.9"
  }
 },
 "nbformat": 4,
 "nbformat_minor": 4
}
